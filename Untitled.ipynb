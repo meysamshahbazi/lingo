{
 "cells": [
  {
   "cell_type": "code",
   "execution_count": 6,
   "id": "279afccc",
   "metadata": {},
   "outputs": [],
   "source": [
    "import glob\n",
    "import os\n",
    "import re\n",
    "import string\n",
    "import enchant"
   ]
  },
  {
   "cell_type": "code",
   "execution_count": null,
   "id": "455b6622",
   "metadata": {},
   "outputs": [],
   "source": [
    "files = os.listdir('phr-txt/')"
   ]
  },
  {
   "cell_type": "code",
   "execution_count": null,
   "id": "6c1bc4d2",
   "metadata": {},
   "outputs": [],
   "source": [
    "files.sort()"
   ]
  },
  {
   "cell_type": "code",
   "execution_count": null,
   "id": "0b3e1882",
   "metadata": {},
   "outputs": [],
   "source": [
    "f = files[0]"
   ]
  },
  {
   "cell_type": "code",
   "execution_count": null,
   "id": "51546a87",
   "metadata": {},
   "outputs": [],
   "source": []
  },
  {
   "cell_type": "code",
   "execution_count": null,
   "id": "56ada67c",
   "metadata": {},
   "outputs": [],
   "source": []
  },
  {
   "cell_type": "code",
   "execution_count": null,
   "id": "67fb2956",
   "metadata": {},
   "outputs": [],
   "source": [
    "numbs = [str(i) for i in range(1,71)]\n"
   ]
  },
  {
   "cell_type": "code",
   "execution_count": null,
   "id": "6b841271",
   "metadata": {},
   "outputs": [],
   "source": [
    "my_file = open('res.txt','w+')"
   ]
  },
  {
   "cell_type": "code",
   "execution_count": null,
   "id": "cc5bbee4",
   "metadata": {},
   "outputs": [],
   "source": [
    "for f in files:\n",
    "    with open('phr-txt/'+f) as fd:\n",
    "        lines = fd.readlines()\n",
    "    for l in lines:\n",
    "        line_with_cama = l.replace(' ',',')\n",
    "        if(line_with_cama[:-1].split(',')[-1] in numbs):\n",
    "            for w in line_with_cama[:-1].split(','):\n",
    "                if w in numbs:\n",
    "                    my_file.write('[u'+w+']')\n",
    "                else:\n",
    "                    my_file.write(w+' ')\n",
    "\n",
    "            my_file.write('\\n') # end of defenition \n",
    "        else:\n",
    "            if l != '\\n' and l != '\\x0c':\n",
    "                my_file.write(l[:-1]+' ')\n",
    "        \n",
    "        \n",
    "my_file.close()"
   ]
  },
  {
   "cell_type": "code",
   "execution_count": null,
   "id": "ffc5605c",
   "metadata": {},
   "outputs": [],
   "source": [
    "# do seprate for each lesson "
   ]
  },
  {
   "cell_type": "code",
   "execution_count": null,
   "id": "c670ab82",
   "metadata": {},
   "outputs": [],
   "source": [
    "with open('res.txt') as fd:\n",
    "    lines = fd.readlines()"
   ]
  },
  {
   "cell_type": "code",
   "execution_count": null,
   "id": "475caaf3",
   "metadata": {},
   "outputs": [],
   "source": [
    "for i in range(1,71):\n",
    "    unit = '[u'+str(i)+']'\n",
    "    with open('phr-units/'+str(i)+'.txt','w+') as f:\n",
    "        for l in lines:\n",
    "            if unit in l:\n",
    "                f.write(l)"
   ]
  },
  {
   "cell_type": "code",
   "execution_count": null,
   "id": "b55c5bb3",
   "metadata": {},
   "outputs": [],
   "source": []
  },
  {
   "cell_type": "code",
   "execution_count": null,
   "id": "86124d93",
   "metadata": {},
   "outputs": [],
   "source": []
  },
  {
   "cell_type": "code",
   "execution_count": null,
   "id": "de93e27c",
   "metadata": {},
   "outputs": [],
   "source": [
    " with open('American-English-File-3-2nd-SB-3A-www.ieltstep.com.txt') as fd:\n",
    "    lines = fd.readlines()\n",
    "\n",
    "\n"
   ]
  },
  {
   "cell_type": "code",
   "execution_count": null,
   "id": "57b9332f",
   "metadata": {},
   "outputs": [],
   "source": []
  },
  {
   "cell_type": "code",
   "execution_count": null,
   "id": "e5c7d2ab",
   "metadata": {},
   "outputs": [],
   "source": []
  },
  {
   "cell_type": "code",
   "execution_count": null,
   "id": "bba8f0d2",
   "metadata": {},
   "outputs": [],
   "source": [
    "d = enchant.Dict(\"en_US\")\n"
   ]
  },
  {
   "cell_type": "code",
   "execution_count": null,
   "id": "e0559cb2",
   "metadata": {},
   "outputs": [],
   "source": [
    "my_words = []\n",
    "for l in lines:\n",
    "    res = re.sub('['+string.punctuation+string.digits+']', '', l).split()\n",
    "    for r in res:\n",
    "        if d.check(r):\n",
    "           my_words.append(r.lower() )"
   ]
  },
  {
   "cell_type": "code",
   "execution_count": null,
   "id": "a0f617a3",
   "metadata": {},
   "outputs": [],
   "source": [
    "len(my_words)"
   ]
  },
  {
   "cell_type": "code",
   "execution_count": null,
   "id": "ec27ea59",
   "metadata": {},
   "outputs": [],
   "source": [
    "my_words = list(set(my_words))"
   ]
  },
  {
   "cell_type": "code",
   "execution_count": null,
   "id": "ae2c15da",
   "metadata": {},
   "outputs": [],
   "source": []
  },
  {
   "cell_type": "code",
   "execution_count": null,
   "id": "2e486768",
   "metadata": {},
   "outputs": [],
   "source": [
    "with open('aef-3a-words.md','w+') as f:\n",
    "    for w in my_words:\n",
    "        f.write(w+', ')\n",
    "    f.write('\\n')"
   ]
  },
  {
   "cell_type": "code",
   "execution_count": null,
   "id": "2425178b",
   "metadata": {},
   "outputs": [],
   "source": []
  },
  {
   "cell_type": "code",
   "execution_count": null,
   "id": "b505315d",
   "metadata": {},
   "outputs": [],
   "source": [
    " with open('American-English-File-3-2nd-SB-3B-www.ieltstep.com.txt') as fd:\n",
    "    lines = fd.readlines()"
   ]
  },
  {
   "cell_type": "code",
   "execution_count": null,
   "id": "79795f16",
   "metadata": {},
   "outputs": [],
   "source": []
  },
  {
   "cell_type": "code",
   "execution_count": null,
   "id": "8e1313f6",
   "metadata": {},
   "outputs": [],
   "source": [
    " with open('aef-3a-words.md') as fd:\n",
    "    perv_word = fd.readlines()"
   ]
  },
  {
   "cell_type": "code",
   "execution_count": null,
   "id": "1e97817e",
   "metadata": {},
   "outputs": [],
   "source": [
    "imported_words = perv_word[0].split(', ')"
   ]
  },
  {
   "cell_type": "code",
   "execution_count": null,
   "id": "a7966225",
   "metadata": {},
   "outputs": [],
   "source": [
    "my_words = []\n",
    "for l in lines:\n",
    "    res = re.sub('['+string.punctuation+string.digits+']', '', l).split()\n",
    "    for r in res:\n",
    "        if d.check(r) and not (r.lower() in imported_words):\n",
    "           my_words.append(r.lower() )"
   ]
  },
  {
   "cell_type": "code",
   "execution_count": null,
   "id": "3df1d1a4",
   "metadata": {},
   "outputs": [],
   "source": [
    "my_words = list(set(my_words))"
   ]
  },
  {
   "cell_type": "code",
   "execution_count": null,
   "id": "64b88275",
   "metadata": {},
   "outputs": [],
   "source": [
    "len(my_words)"
   ]
  },
  {
   "cell_type": "code",
   "execution_count": null,
   "id": "369f1836",
   "metadata": {},
   "outputs": [],
   "source": [
    "with open('aef-3b-words.md','w+') as f:\n",
    "    for w in my_words:\n",
    "        f.write(w+', ')\n",
    "    f.write('\\n')"
   ]
  },
  {
   "cell_type": "code",
   "execution_count": null,
   "id": "75d2c2f4",
   "metadata": {},
   "outputs": [],
   "source": [
    " with open('aef-3a-words.md') as fd:\n",
    "    perv_word = fd.readlines()"
   ]
  },
  {
   "cell_type": "code",
   "execution_count": null,
   "id": "be9c3acb",
   "metadata": {},
   "outputs": [],
   "source": [
    "imported_words = perv_word[0].split(', ')"
   ]
  },
  {
   "cell_type": "code",
   "execution_count": null,
   "id": "f53f8d12",
   "metadata": {},
   "outputs": [],
   "source": [
    " with open('aef-3b-words.md') as fd:\n",
    "    perv_word = fd.readlines()"
   ]
  },
  {
   "cell_type": "code",
   "execution_count": null,
   "id": "a91bd7b2",
   "metadata": {},
   "outputs": [],
   "source": [
    "imported_words = imported_words + perv_word[0].split(', ')"
   ]
  },
  {
   "cell_type": "code",
   "execution_count": null,
   "id": "7d107231",
   "metadata": {},
   "outputs": [],
   "source": [
    " with open('American-English-File-3-2nd-WB-3A-www.ieltstep.com.txt') as fd:\n",
    "    lines = fd.readlines()"
   ]
  },
  {
   "cell_type": "code",
   "execution_count": null,
   "id": "713fe71a",
   "metadata": {},
   "outputs": [],
   "source": [
    "my_words = []\n",
    "for l in lines:\n",
    "    res = re.sub('['+string.punctuation+string.digits+']', '', l).split()\n",
    "    for r in res:\n",
    "        if d.check(r) and not (r.lower() in imported_words):\n",
    "           my_words.append(r.lower() )"
   ]
  },
  {
   "cell_type": "code",
   "execution_count": null,
   "id": "bce0059e",
   "metadata": {},
   "outputs": [],
   "source": [
    "len(my_words)"
   ]
  },
  {
   "cell_type": "code",
   "execution_count": null,
   "id": "580bbda8",
   "metadata": {},
   "outputs": [],
   "source": [
    "my_words = list(set(my_words))"
   ]
  },
  {
   "cell_type": "code",
   "execution_count": null,
   "id": "3a27bcd3",
   "metadata": {},
   "outputs": [],
   "source": [
    "with open('aef-3a-wb-words.md','w+') as f:\n",
    "    for w in my_words:\n",
    "        f.write(w+', ')\n",
    "    f.write('\\n')"
   ]
  },
  {
   "cell_type": "code",
   "execution_count": null,
   "id": "6ac8ddab",
   "metadata": {},
   "outputs": [],
   "source": [
    " with open('aef-3a-wb-words.md') as fd:\n",
    "    perv_word = fd.readlines()\n",
    "imported_words = imported_words + perv_word[0].split(', ')"
   ]
  },
  {
   "cell_type": "code",
   "execution_count": null,
   "id": "d10bd3ad",
   "metadata": {},
   "outputs": [],
   "source": [
    " with open('American-English-File-3-2nd-WB-3B-www.ieltstep.com.txt') as fd:\n",
    "    lines = fd.readlines()"
   ]
  },
  {
   "cell_type": "code",
   "execution_count": null,
   "id": "16f4d276",
   "metadata": {},
   "outputs": [],
   "source": [
    "my_words = []\n",
    "for l in lines:\n",
    "    res = re.sub('['+string.punctuation+string.digits+']', '', l).split()\n",
    "    for r in res:\n",
    "        if d.check(r) and not (r.lower() in imported_words):\n",
    "           my_words.append(r.lower() )"
   ]
  },
  {
   "cell_type": "code",
   "execution_count": null,
   "id": "30e26e69",
   "metadata": {},
   "outputs": [],
   "source": [
    "len(my_words)"
   ]
  },
  {
   "cell_type": "code",
   "execution_count": null,
   "id": "9ca83040",
   "metadata": {},
   "outputs": [],
   "source": [
    "my_words = list(set(my_words))"
   ]
  },
  {
   "cell_type": "code",
   "execution_count": null,
   "id": "3fe381a1",
   "metadata": {},
   "outputs": [],
   "source": [
    "len(my_words)"
   ]
  },
  {
   "cell_type": "code",
   "execution_count": null,
   "id": "0fc6c2d7",
   "metadata": {},
   "outputs": [],
   "source": [
    "with open('aef-3b-wb-words.md','w+') as f:\n",
    "    for w in my_words:\n",
    "        f.write(w+', ')\n",
    "    f.write('\\n')"
   ]
  },
  {
   "cell_type": "code",
   "execution_count": null,
   "id": "a3eb6689",
   "metadata": {},
   "outputs": [],
   "source": [
    "imported_files = ['aef-3b-wb-words.md','aef-3a-wb-words.md','aef-3b-words.md','aef-3a-words.md','aef-2-sb-words.md']\n",
    "imported_words = ['']\n",
    "for fl in imported_files:\n",
    "    print(fl)\n",
    "    with open(fl) as fd:\n",
    "        perv_word = fd.readlines()\n",
    "        \n",
    "    imported_words = imported_words + perv_word[0].split(', ')\n"
   ]
  },
  {
   "cell_type": "code",
   "execution_count": null,
   "id": "33b2ad6d",
   "metadata": {},
   "outputs": [],
   "source": [
    "len(imported_words)"
   ]
  },
  {
   "cell_type": "code",
   "execution_count": null,
   "id": "cfbd60bd",
   "metadata": {},
   "outputs": [],
   "source": []
  },
  {
   "cell_type": "code",
   "execution_count": null,
   "id": "92e8ed67",
   "metadata": {},
   "outputs": [],
   "source": [
    " with open('aef2-wb.txt') as fd:\n",
    "    lines = fd.readlines()\n",
    "\n",
    "my_words = []\n",
    "for l in lines:\n",
    "    res = re.sub('['+string.punctuation+string.digits+']', '', l).split()\n",
    "    for r in res:\n",
    "        if d.check(r) and not (r.lower() in imported_words):\n",
    "           my_words.append(r.lower() )"
   ]
  },
  {
   "cell_type": "code",
   "execution_count": null,
   "id": "2fc33016",
   "metadata": {},
   "outputs": [],
   "source": [
    "len(my_words)"
   ]
  },
  {
   "cell_type": "code",
   "execution_count": null,
   "id": "c0593baf",
   "metadata": {},
   "outputs": [],
   "source": [
    "my_words = list(set(my_words))"
   ]
  },
  {
   "cell_type": "code",
   "execution_count": null,
   "id": "a6575f12",
   "metadata": {},
   "outputs": [],
   "source": [
    "with open('aef-2-wb-words.md','w+') as f:\n",
    "    for w in my_words:\n",
    "        f.write(w+', ')\n",
    "    f.write('\\n')"
   ]
  },
  {
   "cell_type": "code",
   "execution_count": null,
   "id": "749223b8",
   "metadata": {},
   "outputs": [],
   "source": []
  },
  {
   "cell_type": "code",
   "execution_count": null,
   "id": "4f89753c",
   "metadata": {},
   "outputs": [],
   "source": [
    "imported_files = ['aef-3b-wb-words.md',\n",
    "                  'aef-3a-wb-words.md',\n",
    "                  'aef-3b-words.md',\n",
    "                  'aef-3a-words.md',\n",
    "                  'aef-2-sb-words.md',\n",
    "                 'aef-2-wb-words.md']\n",
    "imported_words = ['']\n",
    "for fl in imported_files:\n",
    "    print(fl)\n",
    "    with open(fl) as fd:\n",
    "        perv_word = fd.readlines()\n",
    "        \n",
    "    imported_words = imported_words + perv_word[0].split(', ')\n"
   ]
  },
  {
   "cell_type": "code",
   "execution_count": null,
   "id": "777dcdeb",
   "metadata": {},
   "outputs": [],
   "source": [
    "imported_words"
   ]
  },
  {
   "cell_type": "markdown",
   "id": "ccebfb67",
   "metadata": {},
   "source": [
    "## for clean 4000 words file"
   ]
  },
  {
   "cell_type": "code",
   "execution_count": null,
   "id": "8fb3e928",
   "metadata": {},
   "outputs": [],
   "source": [
    "with open('4000-2.txt') as fd:\n",
    "    lines = fd.readlines()"
   ]
  },
  {
   "cell_type": "code",
   "execution_count": null,
   "id": "fd71d93a",
   "metadata": {},
   "outputs": [],
   "source": [
    "my_words = []\n",
    "for l in lines:\n",
    "    if l != '\\n' and l[:4] != 'Unit' and l[:4] != 'Word':\n",
    "        my_words.append(l[:-1].lower())"
   ]
  },
  {
   "cell_type": "code",
   "execution_count": null,
   "id": "b3d4eee8",
   "metadata": {},
   "outputs": [],
   "source": [
    "with open('4000-2.md','w+') as f:\n",
    "    for w in my_words:\n",
    "        f.write(w+', ')\n",
    "    f.write('\\n')"
   ]
  },
  {
   "cell_type": "code",
   "execution_count": null,
   "id": "8af27ee1",
   "metadata": {},
   "outputs": [],
   "source": [
    "i = 0\n",
    "for w in my_words:\n",
    "    if not w in imported_words:\n",
    "        print(w)\n",
    "        i = i+1"
   ]
  },
  {
   "cell_type": "markdown",
   "id": "e5d48a0e",
   "metadata": {},
   "source": [
    "## 1100 cleaning\n"
   ]
  },
  {
   "cell_type": "code",
   "execution_count": 19,
   "id": "2c75b2d9",
   "metadata": {},
   "outputs": [],
   "source": [
    "with open('1100.txt') as fd:\n",
    "    lines = fd.readlines()"
   ]
  },
  {
   "cell_type": "code",
   "execution_count": 20,
   "id": "bec80300",
   "metadata": {},
   "outputs": [
    {
     "data": {
      "text/plain": [
       "'theory.” S. F. Mason, Science Digest, 5/98\\n'"
      ]
     },
     "execution_count": 20,
     "metadata": {},
     "output_type": "execute_result"
    }
   ],
   "source": [
    "lines[2].split('“')[0]"
   ]
  },
  {
   "cell_type": "code",
   "execution_count": null,
   "id": "ed4a3f42",
   "metadata": {},
   "outputs": [],
   "source": []
  },
  {
   "cell_type": "code",
   "execution_count": null,
   "id": "b579cdcc",
   "metadata": {},
   "outputs": [],
   "source": []
  },
  {
   "cell_type": "code",
   "execution_count": 16,
   "id": "25650485",
   "metadata": {},
   "outputs": [
    {
     "data": {
      "text/plain": [
       "1232"
      ]
     },
     "execution_count": 16,
     "metadata": {},
     "output_type": "execute_result"
    }
   ],
   "source": [
    "len(my_word)"
   ]
  },
  {
   "cell_type": "code",
   "execution_count": 17,
   "id": "7028e9a5",
   "metadata": {},
   "outputs": [],
   "source": [
    "with open('1100.md','w+') as f:\n",
    "    for w in my_words:\n",
    "        f.write(w.lower()+', ')\n",
    "    f.write('\\n')"
   ]
  },
  {
   "cell_type": "markdown",
   "id": "d2169c4f",
   "metadata": {},
   "source": []
  },
  {
   "cell_type": "code",
   "execution_count": 1,
   "id": "61b266f2",
   "metadata": {},
   "outputs": [],
   "source": [
    "with open('essential-toefl.txt') as fd:\n",
    "    lines = fd.readlines()"
   ]
  },
  {
   "cell_type": "code",
   "execution_count": 15,
   "id": "13e0c211",
   "metadata": {},
   "outputs": [],
   "source": [
    "my_words = []\n",
    "for l in lines:\n",
    "    w = l.split(\" \")[0].lower()\n",
    "    if len(w)>2 and not '\\n' in w:\n",
    "        my_words.append(l.split(\" \")[0].lower())"
   ]
  },
  {
   "cell_type": "code",
   "execution_count": 16,
   "id": "6046816f",
   "metadata": {},
   "outputs": [
    {
     "data": {
      "text/plain": [
       "501"
      ]
     },
     "execution_count": 16,
     "metadata": {},
     "output_type": "execute_result"
    }
   ],
   "source": [
    "len(my_words)"
   ]
  },
  {
   "cell_type": "code",
   "execution_count": 17,
   "id": "1d55ca22",
   "metadata": {},
   "outputs": [],
   "source": [
    "with open('essential-toefl.md','w+') as f:\n",
    "    for w in my_words:\n",
    "        f.write(w.lower()+', ')\n",
    "    f.write('\\n')"
   ]
  },
  {
   "cell_type": "code",
   "execution_count": 18,
   "id": "d16c8818",
   "metadata": {},
   "outputs": [
    {
     "data": {
      "text/plain": [
       "528"
      ]
     },
     "execution_count": 18,
     "metadata": {},
     "output_type": "execute_result"
    }
   ],
   "source": [
    "len(lines)"
   ]
  },
  {
   "cell_type": "code",
   "execution_count": 25,
   "id": "7d0c96c9",
   "metadata": {},
   "outputs": [],
   "source": [
    "with open('400-1ed.txt') as fd:\n",
    "    lines = fd.readlines()"
   ]
  },
  {
   "cell_type": "code",
   "execution_count": 26,
   "id": "3cbe6bd7",
   "metadata": {},
   "outputs": [],
   "source": [
    "my_words = []\n",
    "for l in lines:\n",
    "    my_words.append(l[:-1])"
   ]
  },
  {
   "cell_type": "code",
   "execution_count": 27,
   "id": "af37406c",
   "metadata": {},
   "outputs": [],
   "source": [
    "with open('400-1ed.md','w+') as f:\n",
    "    for w in my_words:\n",
    "        f.write(w.lower()+', ')\n",
    "    f.write('\\n')"
   ]
  },
  {
   "cell_type": "code",
   "execution_count": null,
   "id": "7831f456",
   "metadata": {},
   "outputs": [],
   "source": []
  },
  {
   "cell_type": "code",
   "execution_count": 9,
   "id": "fbcc6b9f",
   "metadata": {},
   "outputs": [],
   "source": [
    "with open('504.txt') as fd:\n",
    "    lines = fd.readlines()"
   ]
  },
  {
   "cell_type": "code",
   "execution_count": 10,
   "id": "d3989624",
   "metadata": {},
   "outputs": [],
   "source": [
    "l = lines[0]"
   ]
  },
  {
   "cell_type": "code",
   "execution_count": 16,
   "id": "59094eca",
   "metadata": {},
   "outputs": [],
   "source": [
    "my_words = []\n",
    "for l in lines:\n",
    "    res = re.sub('['+string.punctuation+string.digits+']', '', l).split()\n",
    "    my_words = my_words + res"
   ]
  },
  {
   "cell_type": "code",
   "execution_count": 19,
   "id": "095e8a8c",
   "metadata": {},
   "outputs": [
    {
     "data": {
      "text/plain": [
       "['abandon',\n",
       " 'calculate',\n",
       " 'defraud',\n",
       " 'exhaust',\n",
       " 'abide',\n",
       " 'campus',\n",
       " 'dejected',\n",
       " 'exhibit',\n",
       " 'abolish',\n",
       " 'cancel',\n",
       " 'deliberate',\n",
       " 'expand',\n",
       " 'abroad',\n",
       " 'candidate',\n",
       " 'delinquent',\n",
       " 'expensive',\n",
       " 'absorb',\n",
       " 'capacity',\n",
       " 'denounce',\n",
       " 'explore',\n",
       " 'absurd',\n",
       " 'capsule',\n",
       " 'dense',\n",
       " 'expose',\n",
       " 'abundant',\n",
       " 'captive',\n",
       " 'depart',\n",
       " 'extract',\n",
       " 'abuse',\n",
       " 'casual',\n",
       " 'depict',\n",
       " 'accurate',\n",
       " 'cautious',\n",
       " 'deprive',\n",
       " 'famine',\n",
       " 'acknowledge',\n",
       " 'cease',\n",
       " 'descend',\n",
       " 'feeble',\n",
       " 'addict',\n",
       " 'censor',\n",
       " 'despite',\n",
       " 'feminine',\n",
       " 'adequate',\n",
       " 'century',\n",
       " 'detect',\n",
       " 'fertile',\n",
       " 'adolescent',\n",
       " 'challenge',\n",
       " 'detest',\n",
       " 'fiction',\n",
       " 'alter',\n",
       " 'charity',\n",
       " 'detour',\n",
       " 'fierce',\n",
       " 'amateur',\n",
       " 'chiropractor',\n",
       " 'devise',\n",
       " 'final',\n",
       " 'ambush',\n",
       " 'cinema',\n",
       " 'devour',\n",
       " 'finance',\n",
       " 'amend',\n",
       " 'circulate',\n",
       " 'dilemma',\n",
       " 'flee',\n",
       " 'annual',\n",
       " 'clergy',\n",
       " 'diminish',\n",
       " 'flexible',\n",
       " 'anticipate',\n",
       " 'client',\n",
       " 'disaster',\n",
       " 'forbid',\n",
       " 'apologize',\n",
       " 'coeducational',\n",
       " 'discard',\n",
       " 'fortunate',\n",
       " 'appeal',\n",
       " 'coincide',\n",
       " 'disclose',\n",
       " 'fragile',\n",
       " 'appoint',\n",
       " 'collapse',\n",
       " 'dismal',\n",
       " 'frank',\n",
       " 'approach',\n",
       " 'colleague',\n",
       " 'dispute',\n",
       " 'frequent',\n",
       " 'appropriate',\n",
       " 'collide',\n",
       " 'disrupt',\n",
       " 'frigid',\n",
       " 'architect',\n",
       " 'commence',\n",
       " 'distress',\n",
       " 'fugitive',\n",
       " 'assemble',\n",
       " 'commend',\n",
       " 'document',\n",
       " 'attract',\n",
       " 'commuter',\n",
       " 'doubt',\n",
       " 'gallant',\n",
       " 'audible',\n",
       " 'compel',\n",
       " 'drastic',\n",
       " 'glance',\n",
       " 'authority',\n",
       " 'compete',\n",
       " 'dread',\n",
       " 'gleam',\n",
       " 'avoid',\n",
       " 'complacent',\n",
       " 'drench',\n",
       " 'glimpse',\n",
       " 'aware',\n",
       " 'comprehend',\n",
       " 'drought',\n",
       " 'gloomy',\n",
       " 'awesome',\n",
       " 'comprehensive',\n",
       " 'duplicate',\n",
       " 'grateful',\n",
       " 'awkward',\n",
       " 'conceal',\n",
       " 'dwindle',\n",
       " 'guide',\n",
       " 'conclude',\n",
       " 'bachelor',\n",
       " 'confident',\n",
       " 'economical',\n",
       " 'hardship',\n",
       " 'baffle',\n",
       " 'confine',\n",
       " 'editor',\n",
       " 'harmony',\n",
       " 'baggage',\n",
       " 'confirm',\n",
       " 'elevate',\n",
       " 'harsh',\n",
       " 'bait',\n",
       " 'conflict',\n",
       " 'eliminate',\n",
       " 'harvest',\n",
       " 'ballot',\n",
       " 'consent',\n",
       " 'embrace',\n",
       " 'hasty',\n",
       " 'ban',\n",
       " 'consider',\n",
       " 'emerge',\n",
       " 'hazy',\n",
       " 'beckon',\n",
       " 'contagious',\n",
       " 'employee',\n",
       " 'heed',\n",
       " 'beneficiary',\n",
       " 'corpse',\n",
       " 'encourage',\n",
       " 'heir',\n",
       " 'betray',\n",
       " 'crafty',\n",
       " 'endure',\n",
       " 'hesitate',\n",
       " 'bewildered',\n",
       " 'culprit',\n",
       " 'enormous',\n",
       " 'hinder',\n",
       " 'bigamy',\n",
       " 'customary',\n",
       " 'envy',\n",
       " 'homicide',\n",
       " 'biography',\n",
       " 'epidemic',\n",
       " 'horrid',\n",
       " 'blend',\n",
       " 'data',\n",
       " 'essential',\n",
       " 'humid',\n",
       " 'blunder',\n",
       " 'daze',\n",
       " 'estimate',\n",
       " 'brawl',\n",
       " 'debate',\n",
       " 'evade',\n",
       " 'identify',\n",
       " 'brutal',\n",
       " 'debtor',\n",
       " 'event',\n",
       " 'idle',\n",
       " 'budget',\n",
       " 'decade',\n",
       " 'evidence',\n",
       " 'idol',\n",
       " 'bulky',\n",
       " 'deceive',\n",
       " 'exaggerate',\n",
       " 'ignite',\n",
       " 'burden',\n",
       " 'decrease',\n",
       " 'excel',\n",
       " 'ignore',\n",
       " 'defect',\n",
       " 'excessive',\n",
       " 'illegal',\n",
       " 'calamity',\n",
       " 'defiant',\n",
       " 'exempt',\n",
       " 'illustrate',\n",
       " 'indifference',\n",
       " 'mumble',\n",
       " 'preserve',\n",
       " 'sensitive',\n",
       " 'ingenious',\n",
       " 'municipal',\n",
       " 'prior',\n",
       " 'severity',\n",
       " 'inhabit',\n",
       " 'mute',\n",
       " 'probe',\n",
       " 'shriek',\n",
       " 'innovative',\n",
       " 'mythology',\n",
       " 'proceed',\n",
       " 'shrill',\n",
       " 'insist',\n",
       " 'prohibit',\n",
       " 'signify',\n",
       " 'narcotic',\n",
       " 'prominent',\n",
       " 'sinister',\n",
       " 'jagged',\n",
       " 'negative',\n",
       " 'promote',\n",
       " 'site',\n",
       " 'jealous',\n",
       " 'neglect',\n",
       " 'prompt',\n",
       " 'skim',\n",
       " 'jeopardize',\n",
       " 'neutral',\n",
       " 'prosecute',\n",
       " 'slender',\n",
       " 'jest',\n",
       " 'nimble',\n",
       " 'prosper',\n",
       " 'sneer',\n",
       " 'jolly',\n",
       " 'nominate',\n",
       " 'provide',\n",
       " 'snub',\n",
       " 'journalist',\n",
       " 'nourish',\n",
       " 'pursue',\n",
       " 'soar',\n",
       " 'justice',\n",
       " 'novel',\n",
       " 'solitary',\n",
       " 'juvenile',\n",
       " 'numb',\n",
       " 'qualify',\n",
       " 'soothe',\n",
       " 'numerous',\n",
       " 'quantity',\n",
       " 'source',\n",
       " 'keen',\n",
       " 'quarter',\n",
       " 'spontaneous',\n",
       " 'keg',\n",
       " 'oath',\n",
       " 'quench',\n",
       " 'spouse',\n",
       " 'kneel',\n",
       " 'obedient',\n",
       " 'quota',\n",
       " 'squander',\n",
       " 'obesity',\n",
       " 'quote',\n",
       " 'stationary',\n",
       " 'lack',\n",
       " 'observant',\n",
       " 'subsequent',\n",
       " 'lecture',\n",
       " 'obstacle',\n",
       " 'radical',\n",
       " 'subside',\n",
       " 'legend',\n",
       " 'obtain',\n",
       " 'rage',\n",
       " 'summit',\n",
       " 'legible',\n",
       " 'obvious',\n",
       " 'rapid',\n",
       " 'surpass',\n",
       " 'linger',\n",
       " 'occupant',\n",
       " 'rarely',\n",
       " 'surplus',\n",
       " 'logical',\n",
       " 'opponent',\n",
       " 'rash',\n",
       " 'survive',\n",
       " 'lottery',\n",
       " 'opt',\n",
       " 'rave',\n",
       " 'swarm',\n",
       " 'loyalty',\n",
       " 'oral',\n",
       " 'recede',\n",
       " 'symbol',\n",
       " 'lubricate',\n",
       " 'outlaw',\n",
       " 'recent',\n",
       " 'sympathetic',\n",
       " 'lunatic',\n",
       " 'reckless',\n",
       " 'pacify',\n",
       " 'recline',\n",
       " 'tact',\n",
       " 'magnify',\n",
       " 'panic',\n",
       " 'redeem',\n",
       " 'talent',\n",
       " 'maim',\n",
       " 'parole',\n",
       " 'refer',\n",
       " 'temperate',\n",
       " 'maintain',\n",
       " 'partial',\n",
       " 'reform',\n",
       " 'tempest',\n",
       " 'majestic',\n",
       " 'patriotic',\n",
       " 'refrain',\n",
       " 'tempt',\n",
       " 'majority',\n",
       " 'pauper',\n",
       " 'rehabilitate',\n",
       " 'tendency',\n",
       " 'manipulate',\n",
       " 'pedestrian',\n",
       " 'reject',\n",
       " 'theory',\n",
       " 'masculine',\n",
       " 'penalize',\n",
       " 'relate',\n",
       " 'thorough',\n",
       " 'massive',\n",
       " 'penetrate',\n",
       " 'relieve',\n",
       " 'threat',\n",
       " 'matrimony',\n",
       " 'pension',\n",
       " 'reluctant',\n",
       " 'thrifty',\n",
       " 'mature',\n",
       " 'peril',\n",
       " 'repetition',\n",
       " 'thrust',\n",
       " 'maximum',\n",
       " 'perish',\n",
       " 'reptile',\n",
       " 'toil',\n",
       " 'mediocre',\n",
       " 'persist',\n",
       " 'resent',\n",
       " 'topic',\n",
       " 'menace',\n",
       " 'persuade',\n",
       " 'resign',\n",
       " 'torment',\n",
       " 'merit',\n",
       " 'pierce',\n",
       " 'resist',\n",
       " 'torrent',\n",
       " 'microscope',\n",
       " 'pioneer',\n",
       " 'respond',\n",
       " 'tradition',\n",
       " 'migrate',\n",
       " 'placard',\n",
       " 'resume',\n",
       " 'tragedy',\n",
       " 'miniature',\n",
       " 'plea',\n",
       " 'retain',\n",
       " 'traitor',\n",
       " 'minimum',\n",
       " 'pledge',\n",
       " 'reveal',\n",
       " 'transmit',\n",
       " 'minority',\n",
       " 'pollute',\n",
       " 'revise',\n",
       " 'transparent',\n",
       " 'miserly',\n",
       " 'ponder',\n",
       " 'revive',\n",
       " 'trifle',\n",
       " 'misfortune',\n",
       " 'popular',\n",
       " 'rival',\n",
       " 'tumult',\n",
       " 'molest',\n",
       " 'population',\n",
       " 'roam',\n",
       " 'typical',\n",
       " 'monarch',\n",
       " 'possible',\n",
       " 'rural',\n",
       " 'tyrant',\n",
       " 'morality',\n",
       " 'postpone',\n",
       " 'morgue',\n",
       " 'potential',\n",
       " 'sacred',\n",
       " 'unaccustomed',\n",
       " 'morsel',\n",
       " 'precaution',\n",
       " 'scald',\n",
       " 'unanimous',\n",
       " 'mortal',\n",
       " 'precede',\n",
       " 'scarce',\n",
       " 'undeniable',\n",
       " 'mount',\n",
       " 'predict',\n",
       " 'scorch',\n",
       " 'underdog',\n",
       " 'mourn',\n",
       " 'prejudice',\n",
       " 'scowl',\n",
       " 'underestimate',\n",
       " 'multitude',\n",
       " 'preoccupied',\n",
       " 'security',\n",
       " 'undernourished',\n",
       " 'undoubtedly',\n",
       " 'vacant',\n",
       " 'vermin',\n",
       " 'wad',\n",
       " 'unearth',\n",
       " 'vaccinate',\n",
       " 'verse',\n",
       " 'wager',\n",
       " 'uneasy',\n",
       " 'vague',\n",
       " 'vertical',\n",
       " 'wail',\n",
       " 'uneventful',\n",
       " 'vain',\n",
       " 'vessel',\n",
       " 'warden',\n",
       " 'unforeseen',\n",
       " 'valiant',\n",
       " 'vicinity',\n",
       " 'wary',\n",
       " 'unify',\n",
       " 'valid',\n",
       " 'vicious',\n",
       " 'wasp',\n",
       " 'unique',\n",
       " 'valor',\n",
       " 'victorious',\n",
       " 'weary',\n",
       " 'unite',\n",
       " 'vandal',\n",
       " 'vigor',\n",
       " 'weird',\n",
       " 'unruly',\n",
       " 'vanish',\n",
       " 'villain',\n",
       " 'wharf',\n",
       " 'unstable',\n",
       " 'vapor',\n",
       " 'violent',\n",
       " 'whirling',\n",
       " 'untidy',\n",
       " 'variety',\n",
       " 'visible',\n",
       " 'wholesale',\n",
       " 'upholstery',\n",
       " 'vast',\n",
       " 'vision',\n",
       " 'witty',\n",
       " 'urban',\n",
       " 'vein',\n",
       " 'vital',\n",
       " 'wobble',\n",
       " 'urgent',\n",
       " 'ventilate',\n",
       " 'vocation',\n",
       " 'wrath',\n",
       " 'utensil',\n",
       " 'venture',\n",
       " 'volunteer',\n",
       " 'wretched',\n",
       " 'utilize',\n",
       " 'verdict',\n",
       " 'vulnerable',\n",
       " 'utter',\n",
       " 'verify']"
      ]
     },
     "execution_count": 19,
     "metadata": {},
     "output_type": "execute_result"
    }
   ],
   "source": [
    "my_words"
   ]
  },
  {
   "cell_type": "code",
   "execution_count": 18,
   "id": "074c67e0",
   "metadata": {},
   "outputs": [
    {
     "name": "stdout",
     "output_type": "stream",
     "text": [
      "ban\n",
      "keg\n",
      "opt\n",
      "wad\n"
     ]
    }
   ],
   "source": [
    "d = enchant.Dict(\"en_US\")\n",
    "for w in my_words:\n",
    "    if len(w) < 4:\n",
    "        print(w)"
   ]
  },
  {
   "cell_type": "code",
   "execution_count": null,
   "id": "8725b740",
   "metadata": {},
   "outputs": [],
   "source": [
    "d."
   ]
  },
  {
   "cell_type": "code",
   "execution_count": null,
   "id": "d0528460",
   "metadata": {},
   "outputs": [],
   "source": []
  }
 ],
 "metadata": {
  "kernelspec": {
   "display_name": "Python 3 (ipykernel)",
   "language": "python",
   "name": "python3"
  },
  "language_info": {
   "codemirror_mode": {
    "name": "ipython",
    "version": 3
   },
   "file_extension": ".py",
   "mimetype": "text/x-python",
   "name": "python",
   "nbconvert_exporter": "python",
   "pygments_lexer": "ipython3",
   "version": "3.9.7"
  }
 },
 "nbformat": 4,
 "nbformat_minor": 5
}
