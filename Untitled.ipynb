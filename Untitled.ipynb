{
 "cells": [
  {
   "cell_type": "code",
   "execution_count": 2,
   "id": "279afccc",
   "metadata": {},
   "outputs": [],
   "source": [
    "import glob\n",
    "import os\n",
    "import re\n",
    "import string\n",
    "# import enchant"
   ]
  },
  {
   "cell_type": "code",
   "execution_count": 2,
   "id": "455b6622",
   "metadata": {},
   "outputs": [],
   "source": [
    "files = os.listdir('phr-txt/')"
   ]
  },
  {
   "cell_type": "code",
   "execution_count": 3,
   "id": "6c1bc4d2",
   "metadata": {},
   "outputs": [],
   "source": [
    "files.sort()"
   ]
  },
  {
   "cell_type": "code",
   "execution_count": 4,
   "id": "0b3e1882",
   "metadata": {},
   "outputs": [],
   "source": [
    "f = files[0]"
   ]
  },
  {
   "cell_type": "code",
   "execution_count": null,
   "id": "51546a87",
   "metadata": {},
   "outputs": [],
   "source": []
  },
  {
   "cell_type": "code",
   "execution_count": null,
   "id": "56ada67c",
   "metadata": {},
   "outputs": [],
   "source": []
  },
  {
   "cell_type": "code",
   "execution_count": 6,
   "id": "67fb2956",
   "metadata": {},
   "outputs": [],
   "source": [
    "numbs = [str(i) for i in range(1,71)]\n"
   ]
  },
  {
   "cell_type": "code",
   "execution_count": 44,
   "id": "6b841271",
   "metadata": {},
   "outputs": [],
   "source": [
    "my_file = open('res.txt','w+')"
   ]
  },
  {
   "cell_type": "code",
   "execution_count": 45,
   "id": "cc5bbee4",
   "metadata": {},
   "outputs": [],
   "source": [
    "for f in files:\n",
    "    with open('phr-txt/'+f) as fd:\n",
    "        lines = fd.readlines()\n",
    "    for l in lines:\n",
    "        line_with_cama = l.replace(' ',',')\n",
    "        if(line_with_cama[:-1].split(',')[-1] in numbs):\n",
    "            for w in line_with_cama[:-1].split(','):\n",
    "                if w in numbs:\n",
    "                    my_file.write('[u'+w+']')\n",
    "                else:\n",
    "                    my_file.write(w+' ')\n",
    "\n",
    "            my_file.write('\\n') # end of defenition \n",
    "        else:\n",
    "            if l != '\\n' and l != '\\x0c':\n",
    "                my_file.write(l[:-1]+' ')\n",
    "        \n",
    "        \n",
    "my_file.close()"
   ]
  },
  {
   "cell_type": "code",
   "execution_count": 43,
   "id": "ffc5605c",
   "metadata": {},
   "outputs": [],
   "source": [
    "# do seprate for each lesson "
   ]
  },
  {
   "cell_type": "code",
   "execution_count": 46,
   "id": "c670ab82",
   "metadata": {},
   "outputs": [],
   "source": [
    "with open('res.txt') as fd:\n",
    "    lines = fd.readlines()"
   ]
  },
  {
   "cell_type": "code",
   "execution_count": 50,
   "id": "475caaf3",
   "metadata": {},
   "outputs": [],
   "source": [
    "for i in range(1,71):\n",
    "    unit = '[u'+str(i)+']'\n",
    "    with open('phr-units/'+str(i)+'.txt','w+') as f:\n",
    "        for l in lines:\n",
    "            if unit in l:\n",
    "                f.write(l)"
   ]
  },
  {
   "cell_type": "code",
   "execution_count": null,
   "id": "b55c5bb3",
   "metadata": {},
   "outputs": [],
   "source": []
  },
  {
   "cell_type": "code",
   "execution_count": null,
   "id": "86124d93",
   "metadata": {},
   "outputs": [],
   "source": []
  },
  {
   "cell_type": "code",
   "execution_count": 63,
   "id": "de93e27c",
   "metadata": {},
   "outputs": [],
   "source": [
    " with open('American-English-File-3-2nd-SB-3A-www.ieltstep.com.txt') as fd:\n",
    "    lines = fd.readlines()\n",
    "\n",
    "\n"
   ]
  },
  {
   "cell_type": "code",
   "execution_count": null,
   "id": "57b9332f",
   "metadata": {},
   "outputs": [],
   "source": []
  },
  {
   "cell_type": "code",
   "execution_count": null,
   "id": "e5c7d2ab",
   "metadata": {},
   "outputs": [],
   "source": []
  },
  {
   "cell_type": "code",
   "execution_count": 65,
   "id": "bba8f0d2",
   "metadata": {},
   "outputs": [],
   "source": [
    "d = enchant.Dict(\"en_US\")\n"
   ]
  },
  {
   "cell_type": "code",
   "execution_count": 66,
   "id": "e0559cb2",
   "metadata": {},
   "outputs": [],
   "source": [
    "my_words = []\n",
    "for l in lines:\n",
    "    res = re.sub('['+string.punctuation+string.digits+']', '', l).split()\n",
    "    for r in res:\n",
    "        if d.check(r):\n",
    "           my_words.append(r.lower() )"
   ]
  },
  {
   "cell_type": "code",
   "execution_count": 70,
   "id": "a0f617a3",
   "metadata": {},
   "outputs": [
    {
     "data": {
      "text/plain": [
       "3190"
      ]
     },
     "execution_count": 70,
     "metadata": {},
     "output_type": "execute_result"
    }
   ],
   "source": [
    "len(my_words)"
   ]
  },
  {
   "cell_type": "code",
   "execution_count": 69,
   "id": "ec27ea59",
   "metadata": {},
   "outputs": [],
   "source": [
    "my_words = list(set(my_words))"
   ]
  },
  {
   "cell_type": "code",
   "execution_count": 51,
   "id": "ae2c15da",
   "metadata": {},
   "outputs": [],
   "source": []
  },
  {
   "cell_type": "code",
   "execution_count": 71,
   "id": "2e486768",
   "metadata": {},
   "outputs": [],
   "source": [
    "with open('aef-3a-words.md','w+') as f:\n",
    "    for w in my_words:\n",
    "        f.write(w+', ')\n",
    "    f.write('\\n')"
   ]
  },
  {
   "cell_type": "code",
   "execution_count": null,
   "id": "2425178b",
   "metadata": {},
   "outputs": [],
   "source": []
  },
  {
   "cell_type": "code",
   "execution_count": 73,
   "id": "b505315d",
   "metadata": {},
   "outputs": [],
   "source": [
    " with open('American-English-File-3-2nd-SB-3B-www.ieltstep.com.txt') as fd:\n",
    "    lines = fd.readlines()"
   ]
  },
  {
   "cell_type": "code",
   "execution_count": null,
   "id": "79795f16",
   "metadata": {},
   "outputs": [],
   "source": []
  },
  {
   "cell_type": "code",
   "execution_count": 74,
   "id": "8e1313f6",
   "metadata": {},
   "outputs": [],
   "source": [
    " with open('aef-3a-words.md') as fd:\n",
    "    perv_word = fd.readlines()"
   ]
  },
  {
   "cell_type": "code",
   "execution_count": 75,
   "id": "1e97817e",
   "metadata": {},
   "outputs": [],
   "source": [
    "imported_words = perv_word[0].split(', ')"
   ]
  },
  {
   "cell_type": "code",
   "execution_count": 76,
   "id": "a7966225",
   "metadata": {},
   "outputs": [],
   "source": [
    "my_words = []\n",
    "for l in lines:\n",
    "    res = re.sub('['+string.punctuation+string.digits+']', '', l).split()\n",
    "    for r in res:\n",
    "        if d.check(r) and not (r.lower() in imported_words):\n",
    "           my_words.append(r.lower() )"
   ]
  },
  {
   "cell_type": "code",
   "execution_count": 80,
   "id": "3df1d1a4",
   "metadata": {},
   "outputs": [],
   "source": [
    "my_words = list(set(my_words))"
   ]
  },
  {
   "cell_type": "code",
   "execution_count": 82,
   "id": "64b88275",
   "metadata": {},
   "outputs": [
    {
     "data": {
      "text/plain": [
       "1994"
      ]
     },
     "execution_count": 82,
     "metadata": {},
     "output_type": "execute_result"
    }
   ],
   "source": [
    "len(my_words)"
   ]
  },
  {
   "cell_type": "code",
   "execution_count": 83,
   "id": "369f1836",
   "metadata": {},
   "outputs": [],
   "source": [
    "with open('aef-3b-words.md','w+') as f:\n",
    "    for w in my_words:\n",
    "        f.write(w+', ')\n",
    "    f.write('\\n')"
   ]
  },
  {
   "cell_type": "code",
   "execution_count": 84,
   "id": "75d2c2f4",
   "metadata": {},
   "outputs": [],
   "source": [
    " with open('aef-3a-words.md') as fd:\n",
    "    perv_word = fd.readlines()"
   ]
  },
  {
   "cell_type": "code",
   "execution_count": 85,
   "id": "be9c3acb",
   "metadata": {},
   "outputs": [],
   "source": [
    "imported_words = perv_word[0].split(', ')"
   ]
  },
  {
   "cell_type": "code",
   "execution_count": 86,
   "id": "f53f8d12",
   "metadata": {},
   "outputs": [],
   "source": [
    " with open('aef-3b-words.md') as fd:\n",
    "    perv_word = fd.readlines()"
   ]
  },
  {
   "cell_type": "code",
   "execution_count": 87,
   "id": "a91bd7b2",
   "metadata": {},
   "outputs": [],
   "source": [
    "imported_words = imported_words + perv_word[0].split(', ')"
   ]
  },
  {
   "cell_type": "code",
   "execution_count": 89,
   "id": "7d107231",
   "metadata": {},
   "outputs": [],
   "source": [
    " with open('American-English-File-3-2nd-WB-3A-www.ieltstep.com.txt') as fd:\n",
    "    lines = fd.readlines()"
   ]
  },
  {
   "cell_type": "code",
   "execution_count": 90,
   "id": "713fe71a",
   "metadata": {},
   "outputs": [],
   "source": [
    "my_words = []\n",
    "for l in lines:\n",
    "    res = re.sub('['+string.punctuation+string.digits+']', '', l).split()\n",
    "    for r in res:\n",
    "        if d.check(r) and not (r.lower() in imported_words):\n",
    "           my_words.append(r.lower() )"
   ]
  },
  {
   "cell_type": "code",
   "execution_count": 94,
   "id": "bce0059e",
   "metadata": {},
   "outputs": [
    {
     "data": {
      "text/plain": [
       "560"
      ]
     },
     "execution_count": 94,
     "metadata": {},
     "output_type": "execute_result"
    }
   ],
   "source": [
    "len(my_words)"
   ]
  },
  {
   "cell_type": "code",
   "execution_count": 93,
   "id": "580bbda8",
   "metadata": {},
   "outputs": [],
   "source": [
    "my_words = list(set(my_words))"
   ]
  },
  {
   "cell_type": "code",
   "execution_count": 95,
   "id": "3a27bcd3",
   "metadata": {},
   "outputs": [],
   "source": [
    "with open('aef-3a-wb-words.md','w+') as f:\n",
    "    for w in my_words:\n",
    "        f.write(w+', ')\n",
    "    f.write('\\n')"
   ]
  },
  {
   "cell_type": "code",
   "execution_count": 96,
   "id": "6ac8ddab",
   "metadata": {},
   "outputs": [],
   "source": [
    " with open('aef-3a-wb-words.md') as fd:\n",
    "    perv_word = fd.readlines()\n",
    "imported_words = imported_words + perv_word[0].split(', ')"
   ]
  },
  {
   "cell_type": "code",
   "execution_count": 98,
   "id": "d10bd3ad",
   "metadata": {},
   "outputs": [],
   "source": [
    " with open('American-English-File-3-2nd-WB-3B-www.ieltstep.com.txt') as fd:\n",
    "    lines = fd.readlines()"
   ]
  },
  {
   "cell_type": "code",
   "execution_count": 99,
   "id": "16f4d276",
   "metadata": {},
   "outputs": [],
   "source": [
    "my_words = []\n",
    "for l in lines:\n",
    "    res = re.sub('['+string.punctuation+string.digits+']', '', l).split()\n",
    "    for r in res:\n",
    "        if d.check(r) and not (r.lower() in imported_words):\n",
    "           my_words.append(r.lower() )"
   ]
  },
  {
   "cell_type": "code",
   "execution_count": 100,
   "id": "30e26e69",
   "metadata": {},
   "outputs": [
    {
     "data": {
      "text/plain": [
       "424"
      ]
     },
     "execution_count": 100,
     "metadata": {},
     "output_type": "execute_result"
    }
   ],
   "source": [
    "len(my_words)"
   ]
  },
  {
   "cell_type": "code",
   "execution_count": 101,
   "id": "9ca83040",
   "metadata": {},
   "outputs": [],
   "source": [
    "my_words = list(set(my_words))"
   ]
  },
  {
   "cell_type": "code",
   "execution_count": 103,
   "id": "3fe381a1",
   "metadata": {},
   "outputs": [
    {
     "data": {
      "text/plain": [
       "325"
      ]
     },
     "execution_count": 103,
     "metadata": {},
     "output_type": "execute_result"
    }
   ],
   "source": [
    "len(my_words)"
   ]
  },
  {
   "cell_type": "code",
   "execution_count": 104,
   "id": "0fc6c2d7",
   "metadata": {},
   "outputs": [],
   "source": [
    "with open('aef-3b-wb-words.md','w+') as f:\n",
    "    for w in my_words:\n",
    "        f.write(w+', ')\n",
    "    f.write('\\n')"
   ]
  },
  {
   "cell_type": "code",
   "execution_count": 126,
   "id": "a3eb6689",
   "metadata": {},
   "outputs": [
    {
     "name": "stdout",
     "output_type": "stream",
     "text": [
      "aef-3b-wb-words.md\n",
      "aef-3a-wb-words.md\n",
      "aef-3b-words.md\n",
      "aef-3a-words.md\n",
      "aef-2-sb-words.md\n"
     ]
    }
   ],
   "source": [
    "imported_files = ['aef-3b-wb-words.md','aef-3a-wb-words.md','aef-3b-words.md','aef-3a-words.md','aef-2-sb-words.md']\n",
    "imported_words = ['']\n",
    "for fl in imported_files:\n",
    "    print(fl)\n",
    "    with open(fl) as fd:\n",
    "        perv_word = fd.readlines()\n",
    "        \n",
    "    imported_words = imported_words + perv_word[0].split(', ')\n"
   ]
  },
  {
   "cell_type": "code",
   "execution_count": 129,
   "id": "33b2ad6d",
   "metadata": {},
   "outputs": [
    {
     "data": {
      "text/plain": [
       "7453"
      ]
     },
     "execution_count": 129,
     "metadata": {},
     "output_type": "execute_result"
    }
   ],
   "source": [
    "len(imported_words)"
   ]
  },
  {
   "cell_type": "code",
   "execution_count": null,
   "id": "cfbd60bd",
   "metadata": {},
   "outputs": [],
   "source": []
  },
  {
   "cell_type": "code",
   "execution_count": 131,
   "id": "92e8ed67",
   "metadata": {},
   "outputs": [],
   "source": [
    " with open('aef2-wb.txt') as fd:\n",
    "    lines = fd.readlines()\n",
    "\n",
    "my_words = []\n",
    "for l in lines:\n",
    "    res = re.sub('['+string.punctuation+string.digits+']', '', l).split()\n",
    "    for r in res:\n",
    "        if d.check(r) and not (r.lower() in imported_words):\n",
    "           my_words.append(r.lower() )"
   ]
  },
  {
   "cell_type": "code",
   "execution_count": 134,
   "id": "2fc33016",
   "metadata": {},
   "outputs": [
    {
     "data": {
      "text/plain": [
       "604"
      ]
     },
     "execution_count": 134,
     "metadata": {},
     "output_type": "execute_result"
    }
   ],
   "source": [
    "len(my_words)"
   ]
  },
  {
   "cell_type": "code",
   "execution_count": 133,
   "id": "c0593baf",
   "metadata": {},
   "outputs": [],
   "source": [
    "my_words = list(set(my_words))"
   ]
  },
  {
   "cell_type": "code",
   "execution_count": 135,
   "id": "a6575f12",
   "metadata": {},
   "outputs": [],
   "source": [
    "with open('aef-2-wb-words.md','w+') as f:\n",
    "    for w in my_words:\n",
    "        f.write(w+', ')\n",
    "    f.write('\\n')"
   ]
  },
  {
   "cell_type": "markdown",
   "id": "1eb6ced6",
   "metadata": {},
   "source": [
    "## for clean 4000 words file"
   ]
  },
  {
   "cell_type": "code",
   "execution_count": 3,
   "id": "34a5d4d1",
   "metadata": {},
   "outputs": [],
   "source": [
    "with open('4000-1.txt') as fd:\n",
    "    lines = fd.readlines()"
   ]
  },
  {
   "cell_type": "code",
   "execution_count": 13,
   "id": "3d2996ef",
   "metadata": {},
   "outputs": [],
   "source": [
    "my_words = []\n",
    "for l in lines:\n",
    "    if l != '\\n' and l[:4] != 'Unit' and l[:4] != 'Word':\n",
    "        my_words.append(l[:-1])"
   ]
  },
  {
   "cell_type": "code",
   "execution_count": null,
   "id": "2a281af8",
   "metadata": {},
   "outputs": [],
   "source": []
  },
  {
   "cell_type": "code",
   "execution_count": 11,
   "id": "96927e0e",
   "metadata": {},
   "outputs": [],
   "source": []
  },
  {
   "cell_type": "code",
   "execution_count": 12,
   "id": "75ecf121",
   "metadata": {},
   "outputs": [
    {
     "data": {
      "text/plain": [
       "'Word'"
      ]
     },
     "execution_count": 12,
     "metadata": {},
     "output_type": "execute_result"
    }
   ],
   "source": []
  },
  {
   "cell_type": "code",
   "execution_count": null,
   "id": "0166b524",
   "metadata": {},
   "outputs": [],
   "source": []
  }
 ],
 "metadata": {
  "kernelspec": {
   "display_name": "Python 3 (ipykernel)",
   "language": "python",
   "name": "python3"
  },
  "language_info": {
   "codemirror_mode": {
    "name": "ipython",
    "version": 3
   },
   "file_extension": ".py",
   "mimetype": "text/x-python",
   "name": "python",
   "nbconvert_exporter": "python",
   "pygments_lexer": "ipython3",
   "version": "3.9.12"
  }
 },
 "nbformat": 4,
 "nbformat_minor": 5
}
